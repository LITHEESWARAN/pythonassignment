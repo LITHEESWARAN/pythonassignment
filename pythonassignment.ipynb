{
 "cells": [
  {
   "cell_type": "code",
   "execution_count": 1,
   "id": "3cfa389f",
   "metadata": {},
   "outputs": [
    {
     "name": "stdout",
     "output_type": "stream",
     "text": [
      "1\n",
      "2\n",
      "3\n",
      "4\n",
      "5\n",
      "6\n",
      "7\n",
      "8\n",
      "9\n",
      "10\n"
     ]
    }
   ],
   "source": [
    "# 1. Write a Python program to print numbers from 1 to 10 using a for loop.\n",
    "\n",
    "for i in range(1, 11):\n",
    "    print(i)\n"
   ]
  },
  {
   "cell_type": "markdown",
   "id": "a3cedad5",
   "metadata": {},
   "source": [
    "# 2. Difference between a for loop and a while loop in Python\n",
    "For loop: Iterates over a sequence (like a list, tuple, or string) or range of numbers. The number of iterations is typically known beforehand.\n",
    "While loop: Repeats as long as a condition is true. The number of iterations is not necessarily known beforehand."
   ]
  },
  {
   "cell_type": "code",
   "execution_count": 2,
   "id": "975b4ff4",
   "metadata": {},
   "outputs": [
    {
     "name": "stdout",
     "output_type": "stream",
     "text": [
      "Sum of numbers from 1 to 100 is: 5050\n"
     ]
    }
   ],
   "source": [
    "# 3. Write a Python program to calculate the sum of all numbers from 1 to 100 using a for loop.\n",
    "\n",
    "total_sum = 0\n",
    "for i in range(1, 101):\n",
    "    total_sum += i\n",
    "print(\"Sum of numbers from 1 to 100 is:\", total_sum)\n"
   ]
  },
  {
   "cell_type": "code",
   "execution_count": 3,
   "id": "e31ca65e",
   "metadata": {},
   "outputs": [
    {
     "name": "stdout",
     "output_type": "stream",
     "text": [
      "10\n",
      "20\n",
      "30\n",
      "40\n",
      "50\n"
     ]
    }
   ],
   "source": [
    "# 4. How do you iterate through a list using a for loop in Python?\n",
    "\n",
    "my_list = [10, 20, 30, 40, 50]\n",
    "for item in my_list:\n",
    "    print(item)\n"
   ]
  },
  {
   "cell_type": "code",
   "execution_count": 4,
   "id": "9f3cc6e4",
   "metadata": {},
   "outputs": [
    {
     "name": "stdout",
     "output_type": "stream",
     "text": [
      "Product of all elements: 120\n"
     ]
    }
   ],
   "source": [
    "# 5. Write a Python program to find the product of all elements in a list using a for loop.\n",
    "\n",
    "numbers = [1, 2, 3, 4, 5]\n",
    "product = 1\n",
    "for num in numbers:\n",
    "    product *= num\n",
    "print(\"Product of all elements:\", product)\n"
   ]
  },
  {
   "cell_type": "code",
   "execution_count": 5,
   "id": "be99acd7",
   "metadata": {},
   "outputs": [
    {
     "name": "stdout",
     "output_type": "stream",
     "text": [
      "2\n",
      "4\n",
      "6\n",
      "8\n",
      "10\n",
      "12\n",
      "14\n",
      "16\n",
      "18\n",
      "20\n"
     ]
    }
   ],
   "source": [
    "# 6. Create a Python program that prints all even numbers from 1 to 20 using a for loop.\n",
    "\n",
    "for i in range(1, 21):\n",
    "    if i % 2 == 0:\n",
    "        print(i)\n"
   ]
  },
  {
   "cell_type": "code",
   "execution_count": 6,
   "id": "e0a96070",
   "metadata": {},
   "outputs": [
    {
     "name": "stdout",
     "output_type": "stream",
     "text": [
      "Enter a number: 34\n",
      "Factorial of 34 is 295232799039604140847618609643520000000\n"
     ]
    }
   ],
   "source": [
    "# 7. Write a Python program that calculates the factorial of a number using a for loop.\n",
    "\n",
    "num = int(input(\"Enter a number: \"))\n",
    "factorial = 1\n",
    "\n",
    "for i in range(1, num + 1):\n",
    "    factorial *= i\n",
    "\n",
    "print(f\"Factorial of {num} is {factorial}\")\n"
   ]
  },
  {
   "cell_type": "code",
   "execution_count": 7,
   "id": "b9e0fabe",
   "metadata": {},
   "outputs": [
    {
     "name": "stdout",
     "output_type": "stream",
     "text": [
      "H\n",
      "e\n",
      "l\n",
      "l\n",
      "o\n",
      ",\n",
      " \n",
      "W\n",
      "o\n",
      "r\n",
      "l\n",
      "d\n",
      "!\n"
     ]
    }
   ],
   "source": [
    "# 8. How can you iterate through the characters of a string using a for loop in Python?\n",
    "\n",
    "my_string = \"Hello, World!\"\n",
    "for char in my_string:\n",
    "    print(char)\n"
   ]
  },
  {
   "cell_type": "code",
   "execution_count": 8,
   "id": "7c906427",
   "metadata": {},
   "outputs": [
    {
     "name": "stdout",
     "output_type": "stream",
     "text": [
      "Largest number in the list is: 99\n"
     ]
    }
   ],
   "source": [
    "# 9. Write a Python program to find the largest number in a list using a for loop.\n",
    "\n",
    "numbers = [10, 20, 4, 45, 99]\n",
    "max_num = numbers[0]\n",
    "\n",
    "for num in numbers:\n",
    "    if num > max_num:\n",
    "        max_num = num\n",
    "\n",
    "print(\"Largest number in the list is:\", max_num)\n"
   ]
  },
  {
   "cell_type": "code",
   "execution_count": 9,
   "id": "33bb5794",
   "metadata": {},
   "outputs": [
    {
     "name": "stdout",
     "output_type": "stream",
     "text": [
      "Enter the limit for Fibonacci sequence: 3\n",
      "0 1 1 "
     ]
    }
   ],
   "source": [
    "# 10. Create a Python program that prints the Fibonacci sequence up to a specified limit using a for loop.\n",
    "\n",
    "limit = int(input(\"Enter the limit for Fibonacci sequence: \"))\n",
    "\n",
    "a, b = 0, 1\n",
    "for _ in range(limit):\n",
    "    print(a, end=\" \")\n",
    "    a, b = b, a + b\n"
   ]
  },
  {
   "cell_type": "code",
   "execution_count": 10,
   "id": "4f1c5eb8",
   "metadata": {},
   "outputs": [
    {
     "name": "stdout",
     "output_type": "stream",
     "text": [
      "Enter a string: hello\n",
      "Number of vowels: 2\n"
     ]
    }
   ],
   "source": [
    "# 11. Write a Python program to count the number of vowels in a given string using a for loop.\n",
    "\n",
    "vowels = \"aeiouAEIOU\"\n",
    "count = 0\n",
    "string = input(\"Enter a string: \")\n",
    "\n",
    "for char in string:\n",
    "    if char in vowels:\n",
    "        count += 1\n",
    "\n",
    "print(\"Number of vowels:\", count)\n"
   ]
  },
  {
   "cell_type": "code",
   "execution_count": 11,
   "id": "b55e330f",
   "metadata": {},
   "outputs": [
    {
     "name": "stdout",
     "output_type": "stream",
     "text": [
      "Enter a number: 34\n",
      "34 x 1 = 34\n",
      "34 x 2 = 68\n",
      "34 x 3 = 102\n",
      "34 x 4 = 136\n",
      "34 x 5 = 170\n",
      "34 x 6 = 204\n",
      "34 x 7 = 238\n",
      "34 x 8 = 272\n",
      "34 x 9 = 306\n",
      "34 x 10 = 340\n"
     ]
    }
   ],
   "source": [
    "# 12. Create a Python program that generates a multiplication table for a given number using a for loop.\n",
    "\n",
    "num = int(input(\"Enter a number: \"))\n",
    "\n",
    "for i in range(1, 11):\n",
    "    print(f\"{num} x {i} = {num * i}\")\n"
   ]
  },
  {
   "cell_type": "code",
   "execution_count": 12,
   "id": "8245cfcc",
   "metadata": {},
   "outputs": [
    {
     "name": "stdout",
     "output_type": "stream",
     "text": [
      "Reversed list: [5, 4, 3, 2, 1]\n"
     ]
    }
   ],
   "source": [
    "# 13. Write a Python program to reverse a list using a for loop.\n",
    "\n",
    "my_list = [1, 2, 3, 4, 5]\n",
    "reversed_list = []\n",
    "\n",
    "for i in range(len(my_list) - 1, -1, -1):\n",
    "    reversed_list.append(my_list[i])\n",
    "\n",
    "print(\"Reversed list:\", reversed_list)\n"
   ]
  },
  {
   "cell_type": "code",
   "execution_count": 13,
   "id": "cdf3de2d",
   "metadata": {},
   "outputs": [
    {
     "name": "stdout",
     "output_type": "stream",
     "text": [
      "Common elements: [4, 5]\n"
     ]
    }
   ],
   "source": [
    "# 14. Write a Python program to find the common elements between two lists using a for loop.\n",
    "\n",
    "list1 = [1, 2, 3, 4, 5]\n",
    "list2 = [4, 5, 6, 7, 8]\n",
    "common_elements = []\n",
    "\n",
    "for element in list1:\n",
    "    if element in list2:\n",
    "        common_elements.append(element)\n",
    "\n",
    "print(\"Common elements:\", common_elements)\n"
   ]
  },
  {
   "cell_type": "code",
   "execution_count": 14,
   "id": "862c66db",
   "metadata": {},
   "outputs": [
    {
     "name": "stdout",
     "output_type": "stream",
     "text": [
      "Key: name, Value: Alice\n",
      "Key: age, Value: 25\n",
      "Key: city, Value: New York\n"
     ]
    }
   ],
   "source": [
    "# 15. Explain how to use a for loop to iterate through the keys and values of a dictionary in Python.\n",
    "\n",
    "my_dict = {\"name\": \"Alice\", \"age\": 25, \"city\": \"New York\"}\n",
    "\n",
    "for key, value in my_dict.items():\n",
    "    print(f\"Key: {key}, Value: {value}\")\n"
   ]
  },
  {
   "cell_type": "code",
   "execution_count": 15,
   "id": "35552715",
   "metadata": {},
   "outputs": [
    {
     "name": "stdout",
     "output_type": "stream",
     "text": [
      "Enter the first number: 2\n",
      "Enter the second number: 3\n",
      "The GCD of 2 and 3 is 1.\n"
     ]
    }
   ],
   "source": [
    "# 16. Write a Python program to find the GCD (Greatest Common Divisor) of two numbers using a for loop.\n",
    "\n",
    "def gcd(a, b):\n",
    "    while b:\n",
    "        a, b = b, a % b\n",
    "    return a\n",
    "\n",
    "num1 = int(input(\"Enter the first number: \"))\n",
    "num2 = int(input(\"Enter the second number: \"))\n",
    "\n",
    "gcd_value = gcd(num1, num2)\n",
    "print(f\"The GCD of {num1} and {num2} is {gcd_value}.\")\n"
   ]
  },
  {
   "cell_type": "code",
   "execution_count": 16,
   "id": "8d318094",
   "metadata": {},
   "outputs": [
    {
     "name": "stdout",
     "output_type": "stream",
     "text": [
      "Enter a string: hello\n",
      "hello is not a palindrome.\n"
     ]
    }
   ],
   "source": [
    "# 17. Create a Python program that checks if a string is a palindrome using a for loop.\n",
    "\n",
    "string = input(\"Enter a string: \")\n",
    "is_palindrome = True\n",
    "\n",
    "for i in range(len(string) // 2):\n",
    "    if string[i] != string[-(i + 1)]:\n",
    "        is_palindrome = False\n",
    "        break\n",
    "\n",
    "if is_palindrome:\n",
    "    print(f\"{string} is a palindrome.\")\n",
    "else:\n",
    "    print(f\"{string} is not a palindrome.\")\n"
   ]
  },
  {
   "cell_type": "code",
   "execution_count": 17,
   "id": "5b8d60ce",
   "metadata": {},
   "outputs": [
    {
     "name": "stdout",
     "output_type": "stream",
     "text": [
      "List after removing duplicates: [1, 2, 3, 4, 5]\n"
     ]
    }
   ],
   "source": [
    "# 18. Write a Python program to remove duplicates from a list using a for loop.\n",
    "\n",
    "my_list = [1, 2, 2, 3, 4, 4, 5]\n",
    "unique_list = []\n",
    "\n",
    "for item in my_list:\n",
    "    if item not in unique_list:\n",
    "        unique_list.append(item)\n",
    "\n",
    "print(\"List after removing duplicates:\", unique_list)\n"
   ]
  },
  {
   "cell_type": "code",
   "execution_count": 18,
   "id": "59ef6c85",
   "metadata": {},
   "outputs": [
    {
     "name": "stdout",
     "output_type": "stream",
     "text": [
      "Enter a sentence: i am learning python\n",
      "Number of words in the sentence: 4\n"
     ]
    }
   ],
   "source": [
    "# 19. Create a Python program that counts the number of words in a sentence using a for loop.\n",
    "\n",
    "sentence = input(\"Enter a sentence: \")\n",
    "words = sentence.split()\n",
    "word_count = 0\n",
    "\n",
    "for word in words:\n",
    "    word_count += 1\n",
    "\n",
    "print(\"Number of words in the sentence:\", word_count)\n"
   ]
  },
  {
   "cell_type": "code",
   "execution_count": 19,
   "id": "457ae842",
   "metadata": {},
   "outputs": [
    {
     "name": "stdout",
     "output_type": "stream",
     "text": [
      "Sum of all odd numbers from 1 to 50 is: 625\n"
     ]
    }
   ],
   "source": [
    "# 20. Write a Python program to find the sum of all odd numbers from 1 to 50 using a for loop.\n",
    "\n",
    "total_sum = 0\n",
    "\n",
    "for i in range(1, 51):\n",
    "    if i % 2 != 0:\n",
    "        total_sum += i\n",
    "\n",
    "print(\"Sum of all odd numbers from 1 to 50 is:\", total_sum)\n"
   ]
  },
  {
   "cell_type": "code",
   "execution_count": 20,
   "id": "ebf069c8",
   "metadata": {},
   "outputs": [
    {
     "name": "stdout",
     "output_type": "stream",
     "text": [
      "Enter a year: 2019\n",
      "2019 is not a leap year.\n"
     ]
    }
   ],
   "source": [
    "# 21. Write a Python program that checks if a given year is a leap year using a for loop.\n",
    "\n",
    "year = int(input(\"Enter a year: \"))\n",
    "\n",
    "for i in range(year, year + 1):\n",
    "    if (i % 4 == 0 and i % 100 != 0) or (i % 400 == 0):\n",
    "        print(f\"{i} is a leap year.\")\n",
    "    else:\n",
    "        print(f\"{i} is not a leap year.\")\n"
   ]
  },
  {
   "cell_type": "code",
   "execution_count": 22,
   "id": "25aa1583",
   "metadata": {},
   "outputs": [
    {
     "name": "stdout",
     "output_type": "stream",
     "text": [
      "Enter a number: 23\n",
      "The square root of 23.0 is approximately 4.79583\n"
     ]
    }
   ],
   "source": [
    "# 22. Create a Python program that calculates the square root of a number using a for loop.\n",
    "\n",
    "number = float(input(\"Enter a number: \"))\n",
    "approximation = number / 2  # Initial guess\n",
    "\n",
    "for _ in range(10):  # Perform 10 iterations for convergence\n",
    "    approximation = (approximation + number / approximation) / 2\n",
    "\n",
    "print(f\"The square root of {number} is approximately {approximation:.5f}\")\n"
   ]
  },
  {
   "cell_type": "code",
   "execution_count": 23,
   "id": "a27cd6a8",
   "metadata": {},
   "outputs": [
    {
     "name": "stdout",
     "output_type": "stream",
     "text": [
      "Enter the first number: 12\n",
      "Enter the second number: 21\n",
      "The LCM of 12 and 21 is 84.\n"
     ]
    }
   ],
   "source": [
    "# 23.Write a Python program to find the LCM (Least Common Multiple) of two numbers using a for loop.\n",
    "\n",
    "def find_lcm(num1, num2):\n",
    "    if num1 > num2:\n",
    "        greater = num1\n",
    "    else:\n",
    "        greater = num2\n",
    "\n",
    "    while True:\n",
    "        if (greater % num1 == 0) and (greater % num2 == 0):\n",
    "            lcm = greater\n",
    "            break\n",
    "        greater += 1\n",
    "\n",
    "    return lcm\n",
    "\n",
    "num1 = int(input(\"Enter the first number: \"))\n",
    "num2 = int(input(\"Enter the second number: \"))\n",
    "\n",
    "lcm = find_lcm(num1, num2)\n",
    "print(f\"The LCM of {num1} and {num2} is {lcm}.\")\n"
   ]
  },
  {
   "cell_type": "markdown",
   "id": "4a0e0234",
   "metadata": {},
   "source": [
    "if else"
   ]
  },
  {
   "cell_type": "code",
   "execution_count": 1,
   "id": "debf8f1b",
   "metadata": {},
   "outputs": [
    {
     "name": "stdout",
     "output_type": "stream",
     "text": [
      "Enter a number: 3\n",
      "The number is positive.\n"
     ]
    }
   ],
   "source": [
    "# 1. Write a Python program to check if a number is positive, negative, or zero using an if-else statement.\n",
    "num = float(input(\"Enter a number: \"))\n",
    "\n",
    "if num > 0:\n",
    "    print(\"The number is positive.\")\n",
    "elif num < 0:\n",
    "    print(\"The number is negative.\")\n",
    "else:\n",
    "    print(\"The number is zero.\")\n"
   ]
  },
  {
   "cell_type": "code",
   "execution_count": 2,
   "id": "a275f9b3",
   "metadata": {},
   "outputs": [
    {
     "name": "stdout",
     "output_type": "stream",
     "text": [
      "Enter a number: 4\n",
      "The number is even.\n"
     ]
    }
   ],
   "source": [
    "# 2. Create a Python program that checks if a given number is even or odd using an if-else statement.\n",
    "num = int(input(\"Enter a number: \"))\n",
    "\n",
    "if num % 2 == 0:\n",
    "    print(\"The number is even.\")\n",
    "else:\n",
    "    print(\"The number is odd.\")\n",
    "\n"
   ]
  },
  {
   "cell_type": "code",
   "execution_count": 3,
   "id": "56e68dc0",
   "metadata": {},
   "outputs": [
    {
     "name": "stdout",
     "output_type": "stream",
     "text": [
      "Enter a number: 6\n",
      "The number is positive.\n"
     ]
    }
   ],
   "source": [
    "# 3. How can you use nested if-else statements in Python, and provide an example?\n",
    "num = int(input(\"Enter a number: \"))\n",
    "\n",
    "if num >= 0:\n",
    "    if num == 0:\n",
    "        print(\"The number is zero.\")\n",
    "    else:\n",
    "        print(\"The number is positive.\")\n",
    "else:\n",
    "    print(\"The number is negative.\")\n"
   ]
  },
  {
   "cell_type": "code",
   "execution_count": 4,
   "id": "370b6391",
   "metadata": {},
   "outputs": [
    {
     "name": "stdout",
     "output_type": "stream",
     "text": [
      "Enter the first number: 5\n",
      "Enter the second number: 6\n",
      "Enter the third number: 6\n",
      "The largest number is 6.0.\n"
     ]
    }
   ],
   "source": [
    "# 4. Write a Python program to determine the largest of three numbers using if-else.\n",
    "a = float(input(\"Enter the first number: \"))\n",
    "b = float(input(\"Enter the second number: \"))\n",
    "c = float(input(\"Enter the third number: \"))\n",
    "\n",
    "if a >= b and a >= c:\n",
    "    print(f\"The largest number is {a}.\")\n",
    "elif b >= a and b >= c:\n",
    "    print(f\"The largest number is {b}.\")\n",
    "else:\n",
    "    print(f\"The largest number is {c}.\")\n"
   ]
  },
  {
   "cell_type": "code",
   "execution_count": 5,
   "id": "6693a295",
   "metadata": {},
   "outputs": [
    {
     "name": "stdout",
     "output_type": "stream",
     "text": [
      "Enter a number: 4\n",
      "The absolute value is 4.0.\n"
     ]
    }
   ],
   "source": [
    "# 5. Write a Python program that calculates the absolute value of a number using if-else.\n",
    "num = float(input(\"Enter a number: \"))\n",
    "\n",
    "if num < 0:\n",
    "    abs_value = -num\n",
    "else:\n",
    "    abs_value = num\n",
    "\n",
    "print(f\"The absolute value is {abs_value}.\")\n"
   ]
  },
  {
   "cell_type": "code",
   "execution_count": 6,
   "id": "4dbda4f5",
   "metadata": {},
   "outputs": [
    {
     "name": "stdout",
     "output_type": "stream",
     "text": [
      "Enter a character: 3\n",
      "The character is a consonant.\n"
     ]
    }
   ],
   "source": [
    "# 6. Create a Python program that checks if a given character is a vowel or consonant using if-else.\n",
    "char = input(\"Enter a character: \").lower()\n",
    "\n",
    "if char in 'aeiou':\n",
    "    print(\"The character is a vowel.\")\n",
    "else:\n",
    "    print(\"The character is a consonant.\")\n"
   ]
  },
  {
   "cell_type": "code",
   "execution_count": 7,
   "id": "9ad06725",
   "metadata": {},
   "outputs": [
    {
     "name": "stdout",
     "output_type": "stream",
     "text": [
      "Enter your age: 34\n",
      "You are eligible to vote.\n"
     ]
    }
   ],
   "source": [
    "# 7. Write a Python program to determine if a user is eligible to vote based on their age using if-else.\n",
    "age = int(input(\"Enter your age: \"))\n",
    "\n",
    "if age >= 18:\n",
    "    print(\"You are eligible to vote.\")\n",
    "else:\n",
    "    print(\"You are not eligible to vote.\")\n"
   ]
  },
  {
   "cell_type": "code",
   "execution_count": 8,
   "id": "cb6979f8",
   "metadata": {},
   "outputs": [
    {
     "name": "stdout",
     "output_type": "stream",
     "text": [
      "Enter the purchase amount: 90\n",
      "The discount amount is 0.\n"
     ]
    }
   ],
   "source": [
    "# 8. Create a Python program that calculates the discount amount based on the purchase amount using if-else.\n",
    "amount = float(input(\"Enter the purchase amount: \"))\n",
    "\n",
    "if amount >= 1000:\n",
    "    discount = 0.1 * amount\n",
    "elif amount >= 500:\n",
    "    discount = 0.05 * amount\n",
    "else:\n",
    "    discount = 0\n",
    "\n",
    "print(f\"The discount amount is {discount}.\")\n"
   ]
  },
  {
   "cell_type": "code",
   "execution_count": 9,
   "id": "434fb034",
   "metadata": {},
   "outputs": [
    {
     "name": "stdout",
     "output_type": "stream",
     "text": [
      "Enter a number: 34\n",
      "The number is within the range.\n"
     ]
    }
   ],
   "source": [
    "# 9. Write a Python program to check if a number is within a specified range using if-else.\n",
    "num = float(input(\"Enter a number: \"))\n",
    "\n",
    "if 10 <= num <= 50:\n",
    "    print(\"The number is within the range.\")\n",
    "else:\n",
    "    print(\"The number is out of the range.\")\n"
   ]
  },
  {
   "cell_type": "code",
   "execution_count": 10,
   "id": "e377145e",
   "metadata": {},
   "outputs": [
    {
     "name": "stdout",
     "output_type": "stream",
     "text": [
      "Enter the score: 67\n",
      "The grade is D.\n"
     ]
    }
   ],
   "source": [
    "# 10. Create a Python program that determines the grade of a student based on their score using if-else.\n",
    "score = float(input(\"Enter the score: \"))\n",
    "\n",
    "if score >= 90:\n",
    "    grade = 'A'\n",
    "elif score >= 80:\n",
    "    grade = 'B'\n",
    "elif score >= 70:\n",
    "    grade = 'C'\n",
    "elif score >= 60:\n",
    "    grade = 'D'\n",
    "else:\n",
    "    grade = 'F'\n",
    "\n",
    "print(f\"The grade is {grade}.\")\n"
   ]
  },
  {
   "cell_type": "code",
   "execution_count": 11,
   "id": "57dbbf3e",
   "metadata": {},
   "outputs": [
    {
     "name": "stdout",
     "output_type": "stream",
     "text": [
      "Enter a string: effrh\n",
      "The string is not empty.\n"
     ]
    }
   ],
   "source": [
    "# 11. Write a Python program to check if a string is empty or not using if-else.\n",
    "string = input(\"Enter a string: \")\n",
    "\n",
    "if string:\n",
    "    print(\"The string is not empty.\")\n",
    "else:\n",
    "    print(\"The string is empty.\")\n"
   ]
  },
  {
   "cell_type": "code",
   "execution_count": 12,
   "id": "d83f6156",
   "metadata": {},
   "outputs": [
    {
     "name": "stdout",
     "output_type": "stream",
     "text": [
      "Enter the first side: 45\n",
      "Enter the second side: 8\n",
      "Enter the third side: 0\n",
      "The triangle is scalene.\n"
     ]
    }
   ],
   "source": [
    "# 12. Create a Python program that identifies the type of a triangle (e.g., equilateral, isosceles, or scalene) based on input values using if-else.\n",
    "a = float(input(\"Enter the first side: \"))\n",
    "b = float(input(\"Enter the second side: \"))\n",
    "c = float(input(\"Enter the third side: \"))\n",
    "\n",
    "if a == b and b == c:\n",
    "    print(\"The triangle is equilateral.\")\n",
    "elif a == b or b == c or a == c:\n",
    "    print(\"The triangle is isosceles.\")\n",
    "else:\n",
    "    print(\"The triangle is scalene.\")\n"
   ]
  },
  {
   "cell_type": "code",
   "execution_count": 13,
   "id": "4ef40969",
   "metadata": {},
   "outputs": [
    {
     "name": "stdout",
     "output_type": "stream",
     "text": [
      "Enter a number (1-7): 4\n",
      "Thursday\n"
     ]
    }
   ],
   "source": [
    "# 13. Write a Python program to determine the day of the week based on a user-provided number using if-else.\n",
    "day = int(input(\"Enter a number (1-7): \"))\n",
    "\n",
    "if day == 1:\n",
    "    print(\"Monday\")\n",
    "elif day == 2:\n",
    "    print(\"Tuesday\")\n",
    "elif day == 3:\n",
    "    print(\"Wednesday\")\n",
    "elif day == 4:\n",
    "    print(\"Thursday\")\n",
    "elif day == 5:\n",
    "    print(\"Friday\")\n",
    "elif day == 6:\n",
    "    print(\"Saturday\")\n",
    "elif day == 7:\n",
    "    print(\"Sunday\")\n",
    "else:\n",
    "    print(\"Invalid number.\")\n"
   ]
  },
  {
   "cell_type": "code",
   "execution_count": 14,
   "id": "ef6491d3",
   "metadata": {},
   "outputs": [
    {
     "name": "stdout",
     "output_type": "stream",
     "text": [
      "Enter a year: 2090\n",
      "2090 is not a leap year.\n"
     ]
    }
   ],
   "source": [
    "# 14. Create a Python program that checks if a given year is a leap year using both if-else and a function.\n",
    "def is_leap_year(year):\n",
    "    if (year % 4 == 0 and year % 100 != 0) or (year % 400 == 0):\n",
    "        return True\n",
    "    else:\n",
    "        return False\n",
    "\n",
    "year = int(input(\"Enter a year: \"))\n",
    "\n",
    "if is_leap_year(year):\n",
    "    print(f\"{year} is a leap year.\")\n",
    "else:\n",
    "    print(f\"{year} is not a leap year.\")\n"
   ]
  },
  {
   "cell_type": "code",
   "execution_count": 15,
   "id": "93835a24",
   "metadata": {},
   "outputs": [
    {
     "name": "stdout",
     "output_type": "stream",
     "text": [
      "Enter a number: 34\n",
      "The number is even.\n"
     ]
    }
   ],
   "source": [
    "# 15. How do you use the \"assert\" statement in Python to add debugging checks within if-else blocks?\n",
    "num = int(input(\"Enter a number: \"))\n",
    "\n",
    "assert num >= 0, \"Number should be non-negative\"\n",
    "\n",
    "if num % 2 == 0:\n",
    "    print(\"The number is even.\")\n",
    "else:\n",
    "    print(\"The number is odd.\")\n"
   ]
  },
  {
   "cell_type": "code",
   "execution_count": 16,
   "id": "57261538",
   "metadata": {},
   "outputs": [
    {
     "name": "stdout",
     "output_type": "stream",
     "text": [
      "Enter your age: 34\n",
      "You are not eligible for a senior citizen discount.\n"
     ]
    }
   ],
   "source": [
    "# 16. Create a Python program that determines the eligibility of a person for a senior citizen discount based on age using if-else.\n",
    "age = int(input(\"Enter your age: \"))\n",
    "\n",
    "if age >= 65:\n",
    "    print(\"You are eligible for a senior citizen discount.\")\n",
    "else:\n",
    "    print(\"You are not eligible for a senior citizen discount.\")\n"
   ]
  },
  {
   "cell_type": "code",
   "execution_count": 17,
   "id": "7fed8357",
   "metadata": {},
   "outputs": [
    {
     "name": "stdout",
     "output_type": "stream",
     "text": [
      "Enter a character: r\n",
      "The character is lowercase.\n"
     ]
    }
   ],
   "source": [
    "# 17. Write a Python program to categorize a given character as uppercase, lowercase, or neither using if-else.\n",
    "char = input(\"Enter a character: \")\n",
    "\n",
    "if char.isupper():\n",
    "    print(\"The character is uppercase.\")\n",
    "elif char.islower():\n",
    "    print(\"The character is lowercase.\")\n",
    "else:\n",
    "    print(\"The character is neither uppercase nor lowercase.\")\n"
   ]
  },
  {
   "cell_type": "code",
   "execution_count": 18,
   "id": "33cb2944",
   "metadata": {},
   "outputs": [
    {
     "name": "stdout",
     "output_type": "stream",
     "text": [
      "Enter coefficient a: 3\n",
      "Enter coefficient b: 9\n",
      "Enter coefficient c: 0\n",
      "The roots are 0.0 and -3.0.\n"
     ]
    }
   ],
   "source": [
    "# 18. Write a Python program to determine the roots of a quadratic equation using if-else.\n",
    "import math\n",
    "\n",
    "a = float(input(\"Enter coefficient a: \"))\n",
    "b = float(input(\"Enter coefficient b: \"))\n",
    "c = float(input(\"Enter coefficient c: \"))\n",
    "\n",
    "discriminant = b**2 - 4*a*c\n",
    "\n",
    "if discriminant > 0:\n",
    "    root1 = (-b + math.sqrt(discriminant)) / (2*a)\n",
    "    root2 = (-b - math.sqrt(discriminant)) / (2*a)\n",
    "    print(f\"The roots are {root1} and {root2}.\")\n",
    "elif discriminant == 0:\n",
    "    root = -b / (2*a)\n",
    "    print(f\"The root is {root}.\")\n",
    "else:\n",
    "    print(\"The equation has no real roots.\")\n"
   ]
  },
  {
   "cell_type": "code",
   "execution_count": 19,
   "id": "47bfa6d4",
   "metadata": {},
   "outputs": [
    {
     "name": "stdout",
     "output_type": "stream",
     "text": [
      "Enter a year: 8908\n",
      "The year is not a century year.\n"
     ]
    }
   ],
   "source": [
    "# 19. Create a Python program that checks if a given year is a century year or not using if-else.\n",
    "year = int(input(\"Enter a year: \"))\n",
    "\n",
    "if year % 100 == 0:\n",
    "    print(\"The year is a century year.\")\n",
    "else:\n",
    "    print(\"The year is not a century year.\")\n"
   ]
  },
  {
   "cell_type": "code",
   "execution_count": 20,
   "id": "19f64078",
   "metadata": {},
   "outputs": [
    {
     "name": "stdout",
     "output_type": "stream",
     "text": [
      "Enter a number: 3\n",
      "The number is not a perfect square.\n"
     ]
    }
   ],
   "source": [
    "# 20. Write a Python program to determine if a given number is a perfect square using if-else.\n",
    "import math\n",
    "\n",
    "num = int(input(\"Enter a number: \"))\n",
    "\n",
    "if num >= 0:\n",
    "    sqrt = math.sqrt(num)\n",
    "    if sqrt.is_integer():\n",
    "        print(\"The number is a perfect square.\")\n",
    "    else:\n",
    "        print(\"The number is not a perfect square.\")\n",
    "else:\n",
    "    print(\"The number is negative and cannot be a perfect square.\")\n"
   ]
  },
  {
   "cell_type": "code",
   "execution_count": 21,
   "id": "625b071f",
   "metadata": {},
   "outputs": [
    {
     "name": "stdout",
     "output_type": "stream",
     "text": [
      "1\n",
      "2\n",
      "3\n",
      "4\n",
      "6\n",
      "7\n"
     ]
    }
   ],
   "source": [
    "# 21. Explain the purpose of the \"continue\" and \"break\" statements within if-else loops.\n",
    "# The \"continue\" statement skips the rest of the code inside the loop for the current iteration and proceeds to the next iteration.\n",
    "# The \"break\" statement exits the loop entirely, regardless of the loop condition.\n",
    "\n",
    "for i in range(1, 11):\n",
    "    if i == 5:\n",
    "        continue  # Skip printing the number 5\n",
    "    if i == 8:\n",
    "        break  # Exit the loop when i is 8\n",
    "    print(i)\n"
   ]
  },
  {
   "cell_type": "code",
   "execution_count": 23,
   "id": "12ed812a",
   "metadata": {},
   "outputs": [
    {
     "name": "stdout",
     "output_type": "stream",
     "text": [
      "Enter your weight (kg): 34\n",
      "Enter your height (m): 1\n",
      "Your BMI is 34.00, which is categorized as Obesity.\n"
     ]
    }
   ],
   "source": [
    "# 22. Create a Python program that calculates the BMI (Body Mass Index) of a person based on their weight and height using if-else.\n",
    "weight = float(input(\"Enter your weight (kg): \"))\n",
    "height = float(input(\"Enter your height (m): \"))\n",
    "\n",
    "bmi = weight / (height ** 2)\n",
    "\n",
    "if bmi < 18.5:\n",
    "    category = \"Underweight\"\n",
    "elif 18.5 <= bmi < 24.9:\n",
    "    category = \"Normal weight\"\n",
    "elif 25 <= bmi < 29.9:\n",
    "    category = \"Overweight\"\n",
    "else:\n",
    "    category = \"Obesity\"\n",
    "\n",
    "print(f\"Your BMI is {bmi:.2f}, which is categorized as {category}.\")\n"
   ]
  },
  {
   "cell_type": "code",
   "execution_count": 24,
   "id": "4c881df1",
   "metadata": {},
   "outputs": [
    {
     "name": "stdout",
     "output_type": "stream",
     "text": [
      "Even numbers: [2, 4, 6, 8, 10]\n"
     ]
    }
   ],
   "source": [
    "# 23. How can you use the \"filter()\" function with if-else statements to filter elements from a list?\n",
    "numbers = [1, 2, 3, 4, 5, 6, 7, 8, 9, 10]\n",
    "\n",
    "# Filter out even numbers\n",
    "even_numbers = list(filter(lambda x: x % 2 == 0, numbers))\n",
    "\n",
    "print(\"Even numbers:\", even_numbers)\n"
   ]
  },
  {
   "cell_type": "code",
   "execution_count": 25,
   "id": "f6dbb0d7",
   "metadata": {},
   "outputs": [
    {
     "name": "stdout",
     "output_type": "stream",
     "text": [
      "Even numbers: [2, 4, 6, 8, 10]\n"
     ]
    }
   ],
   "source": [
    "# 23. How can you use the \"filter()\" function with if-else statements to filter elements from a list?\n",
    "numbers = [1, 2, 3, 4, 5, 6, 7, 8, 9, 10]\n",
    "\n",
    "# Filter out even numbers\n",
    "even_numbers = list(filter(lambda x: x % 2 == 0, numbers))\n",
    "\n",
    "print(\"Even numbers:\", even_numbers)\n"
   ]
  },
  {
   "cell_type": "markdown",
   "id": "c6fbe57d",
   "metadata": {},
   "source": [
    "Map"
   ]
  },
  {
   "cell_type": "markdown",
   "id": "a82d4fa1",
   "metadata": {},
   "source": [
    "Purpose of the map() Function:\n",
    "The map() function in Python is used to apply a function to every item in an iterable (like a list or tuple) and return a map object (which is an iterator) that yields the results. This allows for functional-style programming, making it convenient to perform transformations or computations on each element of the iterable without using explicit loops."
   ]
  },
  {
   "cell_type": "code",
   "execution_count": 26,
   "id": "ed0470dd",
   "metadata": {},
   "outputs": [
    {
     "name": "stdout",
     "output_type": "stream",
     "text": [
      "Squared numbers: [1, 4, 9, 16, 25]\n"
     ]
    }
   ],
   "source": [
    "# 1. Write a Python program that uses the `map()` function to square each element of a list of numbers.\n",
    "numbers = [1, 2, 3, 4, 5]\n",
    "\n",
    "def square(x):\n",
    "    return x * x\n",
    "\n",
    "squared_numbers = list(map(square, numbers))\n",
    "print(\"Squared numbers:\", squared_numbers)\n"
   ]
  },
  {
   "cell_type": "code",
   "execution_count": 27,
   "id": "378ef0e2",
   "metadata": {},
   "outputs": [
    {
     "name": "stdout",
     "output_type": "stream",
     "text": [
      "Uppercase names: ['ALICE', 'BOB', 'CHARLIE']\n"
     ]
    }
   ],
   "source": [
    "# 2. Create a Python program that uses the `map()` function to convert a list of names to uppercase.\n",
    "names = [\"alice\", \"bob\", \"charlie\"]\n",
    "\n",
    "def to_uppercase(name):\n",
    "    return name.upper()\n",
    "\n",
    "uppercase_names = list(map(to_uppercase, names))\n",
    "print(\"Uppercase names:\", uppercase_names)\n"
   ]
  },
  {
   "cell_type": "code",
   "execution_count": 28,
   "id": "94305c57",
   "metadata": {},
   "outputs": [
    {
     "name": "stdout",
     "output_type": "stream",
     "text": [
      "Word lengths: [5, 6, 6]\n"
     ]
    }
   ],
   "source": [
    "# 3. Write a Python program that uses the `map()` function to calculate the length of each word in a list of strings.\n",
    "words = [\"apple\", \"banana\", \"cherry\"]\n",
    "\n",
    "def word_length(word):\n",
    "    return len(word)\n",
    "\n",
    "lengths = list(map(word_length, words))\n",
    "print(\"Word lengths:\", lengths)\n"
   ]
  },
  {
   "cell_type": "code",
   "execution_count": 29,
   "id": "50d28665",
   "metadata": {},
   "outputs": [
    {
     "name": "stdout",
     "output_type": "stream",
     "text": [
      "Sums of corresponding elements: [5, 7, 9]\n"
     ]
    }
   ],
   "source": [
    "# 4. How can you use the `map()` function to apply a custom function to elements of multiple lists simultaneously in Python?\n",
    "list1 = [1, 2, 3]\n",
    "list2 = [4, 5, 6]\n",
    "\n",
    "def add_elements(x, y):\n",
    "    return x + y\n",
    "\n",
    "sums = list(map(add_elements, list1, list2))\n",
    "print(\"Sums of corresponding elements:\", sums)\n"
   ]
  },
  {
   "cell_type": "code",
   "execution_count": 30,
   "id": "771a60f9",
   "metadata": {},
   "outputs": [
    {
     "name": "stdout",
     "output_type": "stream",
     "text": [
      "Temperatures in Fahrenheit: [32.0, 50.0, 68.0, 86.0]\n"
     ]
    }
   ],
   "source": [
    "# 5. Create a Python program that uses `map()` to convert a list of temperatures from Celsius to Fahrenheit.\n",
    "celsius = [0, 10, 20, 30]\n",
    "\n",
    "def celsius_to_fahrenheit(c):\n",
    "    return (c * 9/5) + 32\n",
    "\n",
    "fahrenheit = list(map(celsius_to_fahrenheit, celsius))\n",
    "print(\"Temperatures in Fahrenheit:\", fahrenheit)\n"
   ]
  },
  {
   "cell_type": "code",
   "execution_count": 31,
   "id": "ab6c0f61",
   "metadata": {},
   "outputs": [
    {
     "name": "stdout",
     "output_type": "stream",
     "text": [
      "Rounded numbers: [1, 3, 3, 5]\n"
     ]
    }
   ],
   "source": [
    "# 6. Write a Python program that uses the `map()` function to round each element of a list of floating-point numbers to the nearest integer.\n",
    "float_numbers = [1.2, 2.6, 3.4, 4.9]\n",
    "\n",
    "def round_number(n):\n",
    "    return round(n)\n",
    "\n",
    "rounded_numbers = list(map(round_number, float_numbers))\n",
    "print(\"Rounded numbers:\", rounded_numbers)\n"
   ]
  },
  {
   "cell_type": "code",
   "execution_count": 32,
   "id": "4ac94d2e",
   "metadata": {},
   "outputs": [
    {
     "name": "stdout",
     "output_type": "stream",
     "text": [
      "Temperatures in Fahrenheit: [32.0, 50.0, 68.0, 86.0]\n"
     ]
    }
   ],
   "source": [
    "# 7. Create a Python program that uses `map()` to convert a list of temperatures from Celsius to Fahrenheit.\n",
    "celsius = [0, 10, 20, 30]\n",
    "\n",
    "def celsius_to_fahrenheit(c):\n",
    "    return (c * 9/5) + 32\n",
    "\n",
    "fahrenheit = list(map(celsius_to_fahrenheit, celsius))\n",
    "print(\"Temperatures in Fahrenheit:\", fahrenheit)\n"
   ]
  },
  {
   "cell_type": "code",
   "execution_count": 33,
   "id": "917c21aa",
   "metadata": {},
   "outputs": [
    {
     "name": "stdout",
     "output_type": "stream",
     "text": [
      "Rounded numbers: [1, 3, 3, 5]\n"
     ]
    }
   ],
   "source": [
    "# 8. Write a Python program that uses the `map()` function to round each element of a list of floating-point numbers to the nearest integer.\n",
    "float_numbers = [1.2, 2.6, 3.4, 4.9]\n",
    "\n",
    "def round_number(n):\n",
    "    return round(n)\n",
    "\n",
    "rounded_numbers = list(map(round_number, float_numbers))\n",
    "print(\"Rounded numbers:\", rounded_numbers)\n"
   ]
  },
  {
   "cell_type": "markdown",
   "id": "9d7ff7c3",
   "metadata": {},
   "source": [
    "REDUCE"
   ]
  },
  {
   "cell_type": "markdown",
   "id": "e570b74e",
   "metadata": {},
   "source": [
    "The reduce() function in Python is used to apply a function of two arguments cumulatively to the items of an iterable, from left to right, so as to reduce the iterable to a single value. It is part of the functools module, so you'll need to import it to use reduce()\n",
    "\n",
    "from functools import reduce"
   ]
  },
  {
   "cell_type": "code",
   "execution_count": 34,
   "id": "52a84152",
   "metadata": {},
   "outputs": [
    {
     "name": "stdout",
     "output_type": "stream",
     "text": [
      "Product of all elements: 120\n"
     ]
    }
   ],
   "source": [
    "# 1. Write a Python program that uses the `reduce()` function to find the product of all elements in a list.\n",
    "from functools import reduce\n",
    "\n",
    "numbers = [1, 2, 3, 4, 5]\n",
    "\n",
    "def multiply(x, y):\n",
    "    return x * y\n",
    "\n",
    "product = reduce(multiply, numbers)\n",
    "print(\"Product of all elements:\", product)\n"
   ]
  },
  {
   "cell_type": "code",
   "execution_count": 35,
   "id": "5d04a67e",
   "metadata": {},
   "outputs": [
    {
     "name": "stdout",
     "output_type": "stream",
     "text": [
      "Maximum element: 99\n"
     ]
    }
   ],
   "source": [
    "# 2. Create a Python program that uses `reduce()` to find the maximum element in a list of numbers.\n",
    "from functools import reduce\n",
    "\n",
    "numbers = [10, 20, 4, 45, 99]\n",
    "\n",
    "def find_max(x, y):\n",
    "    return x if x > y else y\n",
    "\n",
    "maximum = reduce(find_max, numbers)\n",
    "print(\"Maximum element:\", maximum)\n"
   ]
  },
  {
   "cell_type": "code",
   "execution_count": 36,
   "id": "a83b0c26",
   "metadata": {},
   "outputs": [
    {
     "name": "stdout",
     "output_type": "stream",
     "text": [
      "Concatenated string: Hello world from reduce\n"
     ]
    }
   ],
   "source": [
    "# 3. How can you use the `reduce()` function to concatenate a list of strings into a single string?\n",
    "from functools import reduce\n",
    "\n",
    "strings = [\"Hello\", \"world\", \"from\", \"reduce\"]\n",
    "\n",
    "def concatenate(x, y):\n",
    "    return x + \" \" + y\n",
    "\n",
    "result = reduce(concatenate, strings)\n",
    "print(\"Concatenated string:\", result)\n"
   ]
  },
  {
   "cell_type": "code",
   "execution_count": 37,
   "id": "f6187c5f",
   "metadata": {},
   "outputs": [
    {
     "name": "stdout",
     "output_type": "stream",
     "text": [
      "Factorial of 5: 120\n"
     ]
    }
   ],
   "source": [
    "# 4. Write a Python program that calculates the factorial of a number using the `reduce()` function.\n",
    "from functools import reduce\n",
    "\n",
    "def factorial(x, y):\n",
    "    return x * y\n",
    "\n",
    "number = 5\n",
    "factorial_result = reduce(factorial, range(1, number + 1))\n",
    "print(f\"Factorial of {number}:\", factorial_result)\n"
   ]
  },
  {
   "cell_type": "code",
   "execution_count": 38,
   "id": "fdc553d4",
   "metadata": {},
   "outputs": [
    {
     "name": "stdout",
     "output_type": "stream",
     "text": [
      "GCD of the list: 24\n"
     ]
    }
   ],
   "source": [
    "# 5. Create a Python program that uses `reduce()` to find the GCD (Greatest Common Divisor) of a list of numbers.\n",
    "from functools import reduce\n",
    "import math\n",
    "\n",
    "numbers = [48, 72, 96]\n",
    "\n",
    "def gcd(x, y):\n",
    "    return math.gcd(x, y)\n",
    "\n",
    "gcd_result = reduce(gcd, numbers)\n",
    "print(\"GCD of the list:\", gcd_result)\n"
   ]
  },
  {
   "cell_type": "code",
   "execution_count": 39,
   "id": "458b1dc1",
   "metadata": {},
   "outputs": [
    {
     "name": "stdout",
     "output_type": "stream",
     "text": [
      "Sum of digits of 12345: 15\n"
     ]
    }
   ],
   "source": [
    "# 6. Write a Python program that uses the `reduce()` function to find the sum of the digits of a given number.\n",
    "from functools import reduce\n",
    "\n",
    "number = 12345\n",
    "\n",
    "def sum_digits(x, y):\n",
    "    return x + y\n",
    "\n",
    "# Convert the number to a list of its digits\n",
    "digits = list(map(int, str(number)))\n",
    "sum_of_digits = reduce(sum_digits, digits)\n",
    "print(f\"Sum of digits of {number}:\", sum_of_digits)\n"
   ]
  },
  {
   "cell_type": "markdown",
   "id": "53bf14c2",
   "metadata": {},
   "source": [
    "FILTER:"
   ]
  },
  {
   "cell_type": "markdown",
   "id": "7fc1329c",
   "metadata": {},
   "source": [
    "The filter() function in Python is used to filter elements from an iterable (like a list) based on a function that returns either True or False. It returns an iterator that includes only the elements for which the function returns True.\n",
    "Basic Usage of filter()\n",
    "The filter() function takes two arguments:\n",
    "\n",
    "A function that returns True or False.\n",
    "An iterable (like a list) to filter."
   ]
  },
  {
   "cell_type": "code",
   "execution_count": 40,
   "id": "010a580b",
   "metadata": {},
   "outputs": [
    {
     "name": "stdout",
     "output_type": "stream",
     "text": [
      "Even numbers: [2, 4, 6, 8, 10]\n"
     ]
    }
   ],
   "source": [
    "# 1. Write a Python program that uses the `filter()` function to select even numbers from a list of integers.\n",
    "numbers = [1, 2, 3, 4, 5, 6, 7, 8, 9, 10]\n",
    "\n",
    "def is_even(x):\n",
    "    return x % 2 == 0\n",
    "\n",
    "even_numbers = list(filter(is_even, numbers))\n",
    "print(\"Even numbers:\", even_numbers)\n"
   ]
  },
  {
   "cell_type": "code",
   "execution_count": 41,
   "id": "2cd8c9b2",
   "metadata": {},
   "outputs": [
    {
     "name": "stdout",
     "output_type": "stream",
     "text": [
      "Names starting with 'A': ['Alice']\n"
     ]
    }
   ],
   "source": [
    "# 2. Create a Python program that uses the `filter()` function to select names that start with a specific letter from a list of strings.\n",
    "names = [\"Alice\", \"Bob\", \"Charlie\", \"David\", \"Eve\"]\n",
    "\n",
    "def starts_with_a(name):\n",
    "    return name.startswith('A')\n",
    "\n",
    "names_with_a = list(filter(starts_with_a, names))\n",
    "print(\"Names starting with 'A':\", names_with_a)\n"
   ]
  },
  {
   "cell_type": "code",
   "execution_count": 42,
   "id": "33ecc705",
   "metadata": {},
   "outputs": [
    {
     "name": "stdout",
     "output_type": "stream",
     "text": [
      "Prime numbers: [23, 17, 19]\n"
     ]
    }
   ],
   "source": [
    "# 3. Write a Python program that uses the `filter()` function to select prime numbers from a list of integers.\n",
    "def is_prime(n):\n",
    "    if n <= 1:\n",
    "        return False\n",
    "    for i in range(2, int(n**0.5) + 1):\n",
    "        if n % i == 0:\n",
    "            return False\n",
    "    return True\n",
    "\n",
    "numbers = [10, 23, 4, 17, 8, 19]\n",
    "prime_numbers = list(filter(is_prime, numbers))\n",
    "print(\"Prime numbers:\", prime_numbers)\n"
   ]
  },
  {
   "cell_type": "code",
   "execution_count": 43,
   "id": "fae194c5",
   "metadata": {},
   "outputs": [
    {
     "name": "stdout",
     "output_type": "stream",
     "text": [
      "Filtered data (no None values): [1, 2, 3, 4]\n"
     ]
    }
   ],
   "source": [
    "# 4. How can you use the `filter()` function to remove None values from a list in Python?\n",
    "data = [1, None, 2, None, 3, None, 4]\n",
    "\n",
    "def not_none(x):\n",
    "    return x is not None\n",
    "\n",
    "filtered_data = list(filter(not_none, data))\n",
    "print(\"Filtered data (no None values):\", filtered_data)\n"
   ]
  },
  {
   "cell_type": "code",
   "execution_count": 44,
   "id": "d01b9551",
   "metadata": {},
   "outputs": [
    {
     "name": "stdout",
     "output_type": "stream",
     "text": [
      "Words longer than 5 characters: ['banana', 'cherry', 'elderberry']\n"
     ]
    }
   ],
   "source": [
    "# 5. Create a Python program that uses `filter()` to select words longer than a certain length from a list of strings.\n",
    "words = [\"apple\", \"banana\", \"cherry\", \"date\", \"elderberry\"]\n",
    "\n",
    "def longer_than_5(word):\n",
    "    return len(word) > 5\n",
    "\n",
    "long_words = list(filter(longer_than_5, words))\n",
    "print(\"Words longer than 5 characters:\", long_words)\n"
   ]
  },
  {
   "cell_type": "code",
   "execution_count": 45,
   "id": "6482e541",
   "metadata": {},
   "outputs": [
    {
     "name": "stdout",
     "output_type": "stream",
     "text": [
      "Values greater than 25: [30, 40, 50]\n"
     ]
    }
   ],
   "source": [
    "# 6. Write a Python program that uses the `filter()` function to select elements greater than a specified threshold from a list of values.\n",
    "values = [10, 20, 30, 40, 50]\n",
    "\n",
    "def greater_than_25(x):\n",
    "    return x > 25\n",
    "\n",
    "filtered_values = list(filter(greater_than_25, values))\n",
    "print(\"Values greater than 25:\", filtered_values)\n"
   ]
  },
  {
   "cell_type": "markdown",
   "id": "91c192a9",
   "metadata": {},
   "source": [
    "RECURSION"
   ]
  },
  {
   "cell_type": "markdown",
   "id": "062f282e",
   "metadata": {},
   "source": [
    "Concept of Recursion in Python\n",
    "Recursion in Python (or any programming language) is a technique where a function calls itself in order to solve a problem. This method divides the problem into smaller sub-problems of the same type. A recursive function typically has two main parts:\n",
    "\n",
    "Base Case: This is the condition that stops the recursion, providing a simple, non-recursive solution to the smallest sub-problem.\n",
    "Recursive Case: This part includes the function calling itself with modified arguments, reducing the problem size.\n",
    "Difference Between Recursion and Iteration\n",
    "Recursion: Involves a function calling itself to break down a problem. Each call adds a new layer to the call stack, which can lead to stack overflow if not managed properly.\n",
    "Iteration: Uses loops (such as for or while) to repeatedly execute a block of code. It generally has a constant memory footprint and is less prone to stack overflow issues."
   ]
  },
  {
   "cell_type": "code",
   "execution_count": 46,
   "id": "bc7f0448",
   "metadata": {},
   "outputs": [
    {
     "name": "stdout",
     "output_type": "stream",
     "text": [
      "Factorial of 5: 120\n"
     ]
    }
   ],
   "source": [
    "# 1. Write a Python program to calculate the factorial of a number using recursion.\n",
    "def factorial(n):\n",
    "    if n == 0:\n",
    "        return 1\n",
    "    else:\n",
    "        return n * factorial(n - 1)\n",
    "\n",
    "number = 5\n",
    "print(f\"Factorial of {number}:\", factorial(number))\n"
   ]
  },
  {
   "cell_type": "code",
   "execution_count": 47,
   "id": "a09886c1",
   "metadata": {},
   "outputs": [
    {
     "name": "stdout",
     "output_type": "stream",
     "text": [
      "The 6th Fibonacci number: 8\n"
     ]
    }
   ],
   "source": [
    "# 2. Create a recursive Python function to find the nth Fibonacci number.\n",
    "def fibonacci(n):\n",
    "    if n <= 1:\n",
    "        return n\n",
    "    else:\n",
    "        return fibonacci(n - 1) + fibonacci(n - 2)\n",
    "\n",
    "n = 6\n",
    "print(f\"The {n}th Fibonacci number:\", fibonacci(n))\n"
   ]
  },
  {
   "cell_type": "code",
   "execution_count": 48,
   "id": "076d13cf",
   "metadata": {},
   "outputs": [
    {
     "name": "stdout",
     "output_type": "stream",
     "text": [
      "Sum of all elements: 15\n"
     ]
    }
   ],
   "source": [
    "# 3. Write a recursive Python function to calculate the sum of all elements in a list.\n",
    "def sum_list(lst):\n",
    "    if not lst:\n",
    "        return 0\n",
    "    else:\n",
    "        return lst[0] + sum_list(lst[1:])\n",
    "\n",
    "numbers = [1, 2, 3, 4, 5]\n",
    "print(\"Sum of all elements:\", sum_list(numbers))\n"
   ]
  },
  {
   "cell_type": "code",
   "execution_count": 49,
   "id": "6b7a95a7",
   "metadata": {},
   "outputs": [
    {
     "name": "stdout",
     "output_type": "stream",
     "text": [
      "Done\n"
     ]
    }
   ],
   "source": [
    "# 4. How can you prevent a recursive function from running indefinitely, causing a stack overflow error?\n",
    "# Ensure that you have a base case that stops the recursion. For example:\n",
    "\n",
    "def safe_recursive_function(n):\n",
    "    if n <= 0:\n",
    "        return \"Done\"\n",
    "    else:\n",
    "        return safe_recursive_function(n - 1)\n",
    "\n",
    "print(safe_recursive_function(5))\n"
   ]
  },
  {
   "cell_type": "code",
   "execution_count": 50,
   "id": "1ca95826",
   "metadata": {},
   "outputs": [
    {
     "name": "stdout",
     "output_type": "stream",
     "text": [
      "GCD of 48 and 18: 6\n"
     ]
    }
   ],
   "source": [
    "# 5. Create a recursive Python function to find the greatest common divisor (GCD) of two numbers using the Euclidean algorithm.\n",
    "def gcd(a, b):\n",
    "    if b == 0:\n",
    "        return a\n",
    "    else:\n",
    "        return gcd(b, a % b)\n",
    "\n",
    "x, y = 48, 18\n",
    "print(f\"GCD of {x} and {y}:\", gcd(x, y))\n"
   ]
  },
  {
   "cell_type": "code",
   "execution_count": 51,
   "id": "7d78c3b6",
   "metadata": {},
   "outputs": [
    {
     "name": "stdout",
     "output_type": "stream",
     "text": [
      "Reversed string: olleh\n"
     ]
    }
   ],
   "source": [
    "# 6. Write a recursive Python function to reverse a string.\n",
    "def reverse_string(s):\n",
    "    if len(s) == 0:\n",
    "        return s\n",
    "    else:\n",
    "        return reverse_string(s[1:]) + s[0]\n",
    "\n",
    "string = \"hello\"\n",
    "print(\"Reversed string:\", reverse_string(string))\n"
   ]
  },
  {
   "cell_type": "code",
   "execution_count": 52,
   "id": "dadf11f3",
   "metadata": {},
   "outputs": [
    {
     "name": "stdout",
     "output_type": "stream",
     "text": [
      "2^3: 8\n"
     ]
    }
   ],
   "source": [
    "# 7. Create a recursive Python function to calculate the power of a number (x^n).\n",
    "def power(x, n):\n",
    "    if n == 0:\n",
    "        return 1\n",
    "    else:\n",
    "        return x * power(x, n - 1)\n",
    "\n",
    "base, exponent = 2, 3\n",
    "print(f\"{base}^{exponent}:\", power(base, exponent))\n"
   ]
  },
  {
   "cell_type": "code",
   "execution_count": 53,
   "id": "413145f8",
   "metadata": {},
   "outputs": [
    {
     "name": "stdout",
     "output_type": "stream",
     "text": [
      "Permutations of the string: ['abc', 'acb', 'bac', 'bca', 'cab', 'cba']\n"
     ]
    }
   ],
   "source": [
    "# 8. Write a recursive Python function to find all permutations of a given string.\n",
    "def permutations(s):\n",
    "    if len(s) == 0:\n",
    "        return ['']\n",
    "    else:\n",
    "        perms = []\n",
    "        for i, char in enumerate(s):\n",
    "            for perm in permutations(s[:i] + s[i+1:]):\n",
    "                perms.append(char + perm)\n",
    "        return perms\n",
    "\n",
    "string = \"abc\"\n",
    "print(\"Permutations of the string:\", permutations(string))\n"
   ]
  },
  {
   "cell_type": "code",
   "execution_count": 54,
   "id": "f4f380ca",
   "metadata": {},
   "outputs": [
    {
     "name": "stdout",
     "output_type": "stream",
     "text": [
      "Is 'racecar' a palindrome? True\n"
     ]
    }
   ],
   "source": [
    "# 9. Write a recursive Python function to check if a string is a palindrome.\n",
    "def is_palindrome(s):\n",
    "    if len(s) <= 1:\n",
    "        return True\n",
    "    else:\n",
    "        return s[0] == s[-1] and is_palindrome(s[1:-1])\n",
    "\n",
    "string = \"racecar\"\n",
    "print(f\"Is '{string}' a palindrome?\", is_palindrome(string))\n"
   ]
  },
  {
   "cell_type": "code",
   "execution_count": 55,
   "id": "ff1f1260",
   "metadata": {},
   "outputs": [
    {
     "name": "stdout",
     "output_type": "stream",
     "text": [
      "All combinations of the list: [[], [3], [2], [3, 2], [1], [3, 1], [2, 1], [3, 2, 1]]\n"
     ]
    }
   ],
   "source": [
    "# 10. Create a recursive Python function to generate all possible combinations of a list of elements.\n",
    "def combinations(lst):\n",
    "    if not lst:\n",
    "        return [[]]\n",
    "    else:\n",
    "        combs = combinations(lst[1:])\n",
    "        return combs + [comb + [lst[0]] for comb in combs]\n",
    "\n",
    "elements = [1, 2, 3]\n",
    "print(\"All combinations of the list:\", combinations(elements))\n"
   ]
  },
  {
   "cell_type": "markdown",
   "id": "7f38479f",
   "metadata": {},
   "source": [
    "BASICS OF FUNCTION:"
   ]
  },
  {
   "cell_type": "markdown",
   "id": "034c2cf5",
   "metadata": {},
   "source": [
    "1.What is a Function in Python?\n",
    "A function in Python is a reusable block of code designed to perform a specific task. Functions help in organizing and structuring code, making it more modular and easier to maintain. They also enable code reuse, which reduces redundancy and improves readability.\n",
    "\n",
    "2.Defining a Function in Python\n",
    "To define a function in Python, you use the def keyword followed by the function name and parentheses containing any parameters. The function definition ends with a colon, and the function body is indented.\n",
    "\n",
    "# Function definition\n",
    "def greet(name):\n",
    "    return f\"Hello, {name}!\"\n",
    "    \n",
    "3.Difference Between a Function Definition and a Function Call\n",
    "Function Definition: This is where you specify what the function does. It includes the function name, parameters (if any), and the block of code that executes when the function is called.\n",
    "def add(x, y):  # Function definition\n",
    "    return x + y\n",
    "Function Call: This is where you invoke or execute the function, passing any required arguments. It runs the function's code and returns the result.\n",
    "result = add(5, 3)  # Function call\n",
    "\n",
    "\n",
    "4.Python Program: Define and Call a Function\n",
    "\n",
    "# Define a function to calculate the sum of two numbers\n",
    "def sum_two_numbers(a, b):\n",
    "    return a + b\n",
    "\n",
    "# Call the function\n",
    "result = sum_two_numbers(10, 5)\n",
    "print(\"Sum:\", result)\n",
    "\n",
    "\n",
    "5.Function Signature\n",
    "A function signature includes:\n",
    "\n",
    "The function name.\n",
    "The parameters (also known as arguments) that the function accepts.\n",
    "The return type (implicitly understood from the function's return value, though not explicitly defined in Python).\n",
    "Example:\n",
    "def multiply(x, y):  # Function signature\n",
    "    return x * y\n",
    "    \n",
    "    \n",
    "6.Creating a Python Function with Two Arguments\n",
    "\n",
    "# Define a function that takes two arguments and returns their product\n",
    "def multiply(x, y):\n",
    "    return x * y\n",
    "\n",
    "# Example usage of the function\n",
    "product = multiply(4, 5)\n",
    "print(\"Product:\", product)"
   ]
  },
  {
   "cell_type": "markdown",
   "id": "47d86841",
   "metadata": {},
   "source": [
    "\n",
    "1.Formal Parameters vs. Actual Arguments\n",
    "Formal Parameters: These are the variables listed in the function definition. They act as placeholders for the values that will be passed to the function when it is called.\n",
    "\n",
    "Example:\n",
    "def greet(name):  # 'name' is a formal parameter\n",
    "    return f\"Hello, {name}!\"\n",
    "Actual Arguments: These are the values passed to the function when it is called. They are assigned to the corresponding formal parameters.\n",
    "\n",
    "Example:\n",
    "message = greet(\"Alice\")  # 'Alice' is an actual argument\n",
    "\n",
    "\n",
    "2.Python Program with Default Argument Values\n",
    "Default argument values are used in function definitions to provide a default value if no argument is passed for that parameter.\n",
    "\n",
    "# Define a function with default argument values\n",
    "def greet(name=\"Guest\", greeting=\"Hello\"):\n",
    "    return f\"{greeting}, {name}!\"\n",
    "\n",
    "# Call the function with different arguments\n",
    "print(greet())                 # Uses both default values\n",
    "print(greet(\"Alice\"))          # Uses default greeting\n",
    "print(greet(greeting=\"Hi\"))   # Uses default name\n",
    "print(greet(\"Bob\", \"Goodbye\")) # Uses provided values\n",
    "\n",
    "3.Using Keyword Arguments in Python Function Calls\n",
    "Keyword arguments allow you to specify which parameter each argument is associated with by name, rather than by position.\n",
    "\n",
    "# Define a function that takes two parameters\n",
    "def register_user(name, age):\n",
    "    return f\"User {name} is {age} years old.\"\n",
    "\n",
    "# Call the function using keyword arguments\n",
    "print(register_user(name=\"John\", age=25))\n",
    "print(register_user(age=30, name=\"Alice\"))\n",
    "\n",
    "\n",
    "4.Function Accepting a Variable Number of Arguments\n",
    "You can use *args to accept a variable number of positional arguments and **kwargs for a variable number of keyword arguments.\n",
    "\n",
    "# Function that accepts a variable number of arguments\n",
    "def sum_numbers(*args):\n",
    "    return sum(args)\n",
    "\n",
    "# Call the function with different numbers of arguments\n",
    "print(sum_numbers(1, 2, 3))         # Output: 6\n",
    "print(sum_numbers(10, 20, 30, 40))  # Output: 100\n",
    "\n",
    "\n",
    "5.Purpose of *args and **kwargs\n",
    "*args: Allows a function to accept an arbitrary number of positional arguments. The arguments are collected into a tuple.\n",
    "\n",
    "Example:\n",
    "\n",
    "def concatenate_strings(*args):\n",
    "    return ' '.join(args)\n",
    "\n",
    "print(concatenate_strings(\"Hello\", \"world\", \"from\", \"Python\"))  # Output: Hello world from Python\n",
    "**kwargs: Allows a function to accept an arbitrary number of keyword arguments. The arguments are collected into a dictionary.\n",
    "\n",
    "Example:\n",
    "\n",
    "def print_info(**kwargs):\n",
    "    for key, value in kwargs.items():\n",
    "        print(f\"{key}: {value}\")\n",
    "\n",
    "print_info(name=\"Alice\", age=30, city=\"New York\")\n"
   ]
  },
  {
   "cell_type": "markdown",
   "id": "70987de5",
   "metadata": {},
   "source": [
    "1.Role of the return Statement in Python Functions\n",
    "The return statement in Python is used to exit a function and return a value to the caller. It is optional; if omitted, the function returns None by default. The return statement allows a function to send a result back to where it was called, making it possible to use the function's output in other parts of your program.\n",
    "\n",
    "Examples:\n",
    "\n",
    "# Example 1: Function with a return statement\n",
    "def add(x, y):\n",
    "    return x + y\n",
    "\n",
    "result = add(10, 5)\n",
    "print(result)  # Output: 15\n",
    "\n",
    "# Example 2: Function without a return statement\n",
    "def greet(name):\n",
    "    print(f\"Hello, {name}!\")\n",
    "\n",
    "greet(\"Alice\")  # Output: Hello, Alice!\n",
    "result = greet(\"Bob\")  # Output: Hello, Bob!\n",
    "print(result)  # Output: None\n",
    "\n",
    "\n",
    "2.Concept of Variable Scope in Python\n",
    "Local Variables: These are variables defined inside a function. They can only be accessed within that function. When the function exits, local variables are destroyed.\n",
    "\n",
    "Global Variables: These are variables defined outside of any function. They can be accessed by any function within the same module. However, to modify a global variable inside a function, you need to use the global keyword.\n",
    "\n",
    "3.Python Program Demonstrating Global Variables\n",
    "\n",
    "# Global variable\n",
    "counter = 0\n",
    "\n",
    "def increment():\n",
    "    global counter\n",
    "    counter += 1\n",
    "    print(\"Counter:\", counter)\n",
    "\n",
    "increment()  # Output: Counter: 1\n",
    "increment()  # Output: Counter: 2\n",
    "\n",
    "\n",
    "4.Function to Calculate Factorial\n",
    "\n",
    "# Function to calculate the factorial of a number\n",
    "def factorial(n):\n",
    "    if n == 0:\n",
    "        return 1\n",
    "    else:\n",
    "        return n * factorial(n - 1)\n",
    "\n",
    "number = 5\n",
    "print(f\"Factorial of {number}:\", factorial(number))  # Output: Factorial of 5: 120\n",
    "\n",
    "\n",
    "6.Accessing Variables Defined Outside a Function\n",
    "To access variables defined outside a function, you can directly use global variables. If you need to modify a global variable from within a function, use the global keyword.\n",
    "\n",
    "Example of accessing and modifying a global variable:\n",
    "\n",
    "# Global variable\n",
    "message = \"Hello, world!\"\n",
    "\n",
    "def print_message():\n",
    "    # Accessing global variable\n",
    "    print(message)\n",
    "\n",
    "def update_message(new_message):\n",
    "    global message\n",
    "    message = new_message\n",
    "\n",
    "print_message()  # Output: Hello, world!\n",
    "update_message(\"New message\")\n",
    "print_message()  # Output: New message"
   ]
  },
  {
   "cell_type": "markdown",
   "id": "f7462b2c",
   "metadata": {},
   "source": [
    "Lambda Functions and Higher-Order Functions:"
   ]
  },
  {
   "cell_type": "markdown",
   "id": "ec02368b",
   "metadata": {},
   "source": [
    "Lambda Functions in Python\n",
    "Lambda Functions: Lambda functions are small anonymous functions defined with the lambda keyword. They can have any number of arguments but only one expression. The result of the expression is implicitly returned.\n",
    "\n",
    "When to Use Lambda Functions:\n",
    "\n",
    "For short, throwaway functions that are used only once or twice.\n",
    "When you need a simple function for short-term use, especially as an argument to higher-order functions like map(), filter(), or sorted().\n",
    "Syntax:\n",
    "lambda arguments: expression"
   ]
  },
  {
   "cell_type": "code",
   "execution_count": 56,
   "id": "e94dd55b",
   "metadata": {},
   "outputs": [
    {
     "name": "stdout",
     "output_type": "stream",
     "text": [
      "Sorted list: [(5, 0), (3, 1), (1, 2), (4, 3)]\n"
     ]
    }
   ],
   "source": [
    "# List of tuples\n",
    "data = [(1, 2), (3, 1), (5, 0), (4, 3)]\n",
    "\n",
    "# Sort the list of tuples based on the second element\n",
    "sorted_data = sorted(data, key=lambda x: x[1])\n",
    "\n",
    "print(\"Sorted list:\", sorted_data)\n",
    "# Output: Sorted list: [(5, 0), (3, 1), (1, 2), (4, 3)]\n"
   ]
  },
  {
   "cell_type": "markdown",
   "id": "addca442",
   "metadata": {},
   "source": [
    "Higher-Order Functions in Python\n",
    "Higher-Order Functions: These are functions that can take other functions as arguments or return functions as results. They allow you to write more abstract and reusable code."
   ]
  },
  {
   "cell_type": "code",
   "execution_count": 57,
   "id": "b5b2f464",
   "metadata": {},
   "outputs": [
    {
     "name": "stdout",
     "output_type": "stream",
     "text": [
      "Squared numbers: [1, 4, 9, 16]\n"
     ]
    }
   ],
   "source": [
    "# Function that applies to each element\n",
    "def square(x):\n",
    "    return x * x\n",
    "\n",
    "# Higher-order function that applies a function to a list of elements\n",
    "def apply_function(lst, func):\n",
    "    return list(map(func, lst))\n",
    "\n",
    "numbers = [1, 2, 3, 4]\n",
    "squared_numbers = apply_function(numbers, square)\n",
    "\n",
    "print(\"Squared numbers:\", squared_numbers)\n",
    "# Output: Squared numbers: [1, 4, 9, 16]\n"
   ]
  },
  {
   "cell_type": "markdown",
   "id": "22870127",
   "metadata": {},
   "source": [
    "Python Program: Applying a Function to Each Element in a List\n",
    "You can pass a lambda function or any other function as an argument to another function."
   ]
  },
  {
   "cell_type": "code",
   "execution_count": 59,
   "id": "353939d1",
   "metadata": {},
   "outputs": [
    {
     "name": "stdout",
     "output_type": "stream",
     "text": [
      "Doubled numbers: [4, 8, 12, 16]\n"
     ]
    }
   ],
   "source": [
    "# Function that applies a given function to each element in a list\n",
    "def apply_to_each(lst, func):\n",
    "    return [func(x) for x in lst]\n",
    "\n",
    "numbers = [2, 4, 6, 8]\n",
    "\n",
    "# Using a lambda function to double each number\n",
    "doubled_numbers = apply_to_each(numbers, lambda x: x * 2)\n",
    "\n",
    "print(\"Doubled numbers:\", doubled_numbers)\n",
    "# Output: Doubled numbers: [4, 8, 12, 16]\n"
   ]
  },
  {
   "cell_type": "markdown",
   "id": "526ac338",
   "metadata": {},
   "source": [
    "Built-in Functions in Python\n",
    "Built-in Functions: Python provides several built-in functions that are readily available and do not require importing any additional modules. These functions are designed to perform common tasks and operations, making programming easier and more efficient.\n",
    "\n",
    "Examples:\n",
    "\n",
    "len(): Returns the number of items in an object (e.g., the length of a string or list).\n",
    "max(): Returns the largest item from an iterable or the largest of two or more arguments.\n",
    "min(): Returns the smallest item from an iterable or the smallest of two or more arguments."
   ]
  },
  {
   "cell_type": "code",
   "execution_count": 60,
   "id": "c4400c5f",
   "metadata": {},
   "outputs": [
    {
     "name": "stdout",
     "output_type": "stream",
     "text": [
      "Length of the list: 5\n",
      "Maximum value: 40\n",
      "Minimum value: 10\n"
     ]
    }
   ],
   "source": [
    "# Using len() to find the length of a list\n",
    "numbers = [1, 2, 3, 4, 5]\n",
    "print(\"Length of the list:\", len(numbers))  # Output: 5\n",
    "\n",
    "# Using max() to find the maximum value\n",
    "values = [10, 20, 30, 40]\n",
    "print(\"Maximum value:\", max(values))  # Output: 40\n",
    "\n",
    "# Using min() to find the minimum value\n",
    "numbers = [10, 20, 30, 40]\n",
    "print(\"Minimum value:\", min(numbers))  # Output: 10\n"
   ]
  },
  {
   "cell_type": "markdown",
   "id": "95023f51",
   "metadata": {},
   "source": [
    "Using map() to Apply a Function to Each Element of a List\n",
    "The map() function applies a given function to each item in an iterable (like a list) and returns an iterator of the results."
   ]
  },
  {
   "cell_type": "code",
   "execution_count": 61,
   "id": "464cbc75",
   "metadata": {},
   "outputs": [
    {
     "name": "stdout",
     "output_type": "stream",
     "text": [
      "Doubled numbers: [2, 4, 6, 8]\n"
     ]
    }
   ],
   "source": [
    "# Function to double a number\n",
    "def double(x):\n",
    "    return x * 2\n",
    "\n",
    "# List of numbers\n",
    "numbers = [1, 2, 3, 4]\n",
    "\n",
    "# Apply the double function to each element using map()\n",
    "doubled_numbers = list(map(double, numbers))\n",
    "\n",
    "print(\"Doubled numbers:\", doubled_numbers)  # Output: [2, 4, 6, 8]\n"
   ]
  },
  {
   "cell_type": "markdown",
   "id": "10e6fd0e",
   "metadata": {},
   "source": [
    "How the filter() Function Works\n",
    "The filter() function filters elements from an iterable based on a function that returns True or False. It returns an iterator containing only the elements for which the function returned True.\n",
    "\n",
    "When to Use:\n",
    "\n",
    "When you need to extract specific elements from an iterable based on some condition.\n",
    "For tasks like removing unwanted items or selecting items that meet certain criteria"
   ]
  },
  {
   "cell_type": "code",
   "execution_count": 62,
   "id": "ebd3f0f9",
   "metadata": {},
   "outputs": [
    {
     "name": "stdout",
     "output_type": "stream",
     "text": [
      "Even numbers: [2, 4, 6]\n"
     ]
    }
   ],
   "source": [
    "# Function to check if a number is even\n",
    "def is_even(x):\n",
    "    return x % 2 == 0\n",
    "\n",
    "# List of numbers\n",
    "numbers = [1, 2, 3, 4, 5, 6]\n",
    "\n",
    "# Filter out even numbers using filter()\n",
    "even_numbers = list(filter(is_even, numbers))\n",
    "\n",
    "print(\"Even numbers:\", even_numbers)  # Output: [2, 4, 6]\n"
   ]
  },
  {
   "cell_type": "markdown",
   "id": "976f3b21",
   "metadata": {},
   "source": [
    "Using reduce() to Find the Product of All Elements in a List\n",
    "The reduce() function (from the functools module) applies a function cumulatively to the items of an iterable, reducing it to a single value. It is often used for operations like summing or multiplying all elements."
   ]
  },
  {
   "cell_type": "code",
   "execution_count": 63,
   "id": "e17fa8c3",
   "metadata": {},
   "outputs": [
    {
     "name": "stdout",
     "output_type": "stream",
     "text": [
      "Product of all elements: 120\n"
     ]
    }
   ],
   "source": [
    "from functools import reduce\n",
    "\n",
    "# Function to multiply two numbers\n",
    "def multiply(x, y):\n",
    "    return x * y\n",
    "\n",
    "# List of numbers\n",
    "numbers = [1, 2, 3, 4, 5]\n",
    "\n",
    "# Find the product of all elements using reduce()\n",
    "product = reduce(multiply, numbers)\n",
    "\n",
    "print(\"Product of all elements:\", product)  # Output: 120\n"
   ]
  },
  {
   "cell_type": "markdown",
   "id": "9dea6a69",
   "metadata": {},
   "source": [
    "Function Documentation and Best Practices:"
   ]
  },
  {
   "cell_type": "markdown",
   "id": "08802e25",
   "metadata": {},
   "source": [
    "Purpose of Docstrings in Python Functions\n",
    "Docstrings: Docstrings are a way to document your functions, classes, and modules in Python. They are written inside triple quotes (\"\"\"docstring\"\"\" or '''docstring''') and are placed immediately after the function definition. Docstrings help explain what the function does, its parameters, and its return values. They serve as an essential tool for code readability and maintainability.\n",
    "\n",
    "How to Write Docstrings:\n",
    "\n",
    "Brief Summary: Start with a short summary of what the function does.\n",
    "Parameters: Describe the parameters, including their types and what they represent.\n",
    "Return Values: Describe what the function returns and its type.\n",
    "Additional Information: Include any additional details, such as exceptions raised, if relevant.\n",
    "def add(a, b):\n",
    "    \"\"\"\n",
    "    Add two numbers and return the result.\n",
    "\n",
    "    Parameters:\n",
    "    a (int or float): The first number.\n",
    "    b (int or float): The second number.\n",
    "\n",
    "    Returns:\n",
    "    int or float: The sum of the two numbers.\n",
    "    \"\"\"\n",
    "    return a + b\n",
    "    \n",
    "    \n",
    "Purpose of Docstrings in Python Functions\n",
    "Docstrings: Docstrings are a way to document your functions, classes, and modules in Python. They are written inside triple quotes (\"\"\"docstring\"\"\" or '''docstring''') and are placed immediately after the function definition. Docstrings help explain what the function does, its parameters, and its return values. They serve as an essential tool for code readability and maintainability.\n",
    "\n",
    "How to Write Docstrings:\n",
    "\n",
    "Brief Summary: Start with a short summary of what the function does.\n",
    "Parameters: Describe the parameters, including their types and what they represent.\n",
    "Return Values: Describe what the function returns and its type.\n",
    "Additional Information: Include any additional details, such as exceptions raised, if relevant.\n",
    "Example:\n",
    "\n",
    "def add(a, b):\n",
    "    \"\"\"\n",
    "    Add two numbers and return the result.\n",
    "\n",
    "    Parameters:\n",
    "    a (int or float): The first number.\n",
    "    b (int or float): The second number.\n",
    "\n",
    "    Returns:\n",
    "    int or float: The sum of the two numbers.\n",
    "    \"\"\"\n",
    "    return a + b\n",
    "Accessing Docstrings: You can access the docstring of a function using the __doc__ attribute.\n",
    "\n",
    "print(add.__doc__)\n",
    "\n",
    "2.Best Practices for Naming Functions and Variables\n",
    "Use Descriptive Names: Choose names that clearly indicate the purpose of the function or variable.\n",
    "\n",
    "Function: calculate_area instead of calc\n",
    "Variable: total_sum instead of ts\n",
    "Follow Naming Conventions:\n",
    "\n",
    "Functions: Use lowercase letters with words separated by underscores (snake_case).\n",
    "\n",
    "def get_user_name():\n",
    "    pass\n",
    "Variables: Use lowercase letters with words separated by underscores (snake_case).\n",
    "\n",
    "user_age = 25\n",
    "Constants: Use uppercase letters with words separated by underscores (UPPER_SNAKE_CASE).\n",
    "\n",
    "MAX_ATTEMPTS = 5\n",
    "Avoid Single-Letter Names: Except for counters or iterators in small loops. Single-letter names like x or y can be ambiguous.\n",
    "\n",
    "for index in range(10):\n",
    "    print(index)\n",
    "Use Meaningful Names: Names should reflect the role or purpose of the function or variable. Avoid using vague or generic names.\n",
    "\n",
    "\n",
    "def compute_average(scores):\n",
    "    pass\n",
    "\n",
    "total_score = 100\n",
    "Avoid Using Reserved Words: Don't use Python reserved words or built-in function names as variable or function names.\n",
    "\n",
    "\n",
    "# Avoid using names like 'list', 'str', 'print'\n",
    "Consistency: Be consistent in your naming conventions throughout your codebase. Consistency improves readability and maintainability.\n",
    "\n",
    "Avoid Abbreviations: Use full words instead of abbreviations, unless they are widely recognized and understood.\n",
    "\n",
    "def calculate_interest_rate(principal, rate, time):\n",
    "    pass\n"
   ]
  },
  {
   "cell_type": "code",
   "execution_count": 64,
   "id": "da1b9a79",
   "metadata": {},
   "outputs": [],
   "source": []
  },
  {
   "cell_type": "code",
   "execution_count": null,
   "id": "20af3a8e",
   "metadata": {},
   "outputs": [],
   "source": []
  }
 ],
 "metadata": {
  "kernelspec": {
   "display_name": "Python 3 (ipykernel)",
   "language": "python",
   "name": "python3"
  },
  "language_info": {
   "codemirror_mode": {
    "name": "ipython",
    "version": 3
   },
   "file_extension": ".py",
   "mimetype": "text/x-python",
   "name": "python",
   "nbconvert_exporter": "python",
   "pygments_lexer": "ipython3",
   "version": "3.9.12"
  }
 },
 "nbformat": 4,
 "nbformat_minor": 5
}
